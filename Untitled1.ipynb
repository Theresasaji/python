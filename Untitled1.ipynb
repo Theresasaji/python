{
  "nbformat": 4,
  "nbformat_minor": 0,
  "metadata": {
    "colab": {
      "name": "Untitled1.ipynb",
      "provenance": [],
      "authorship_tag": "ABX9TyNhs75CrOJeGCOxpYGcl5sT",
      "include_colab_link": true
    },
    "kernelspec": {
      "name": "python3",
      "display_name": "Python 3"
    }
  },
  "cells": [
    {
      "cell_type": "markdown",
      "metadata": {
        "id": "view-in-github",
        "colab_type": "text"
      },
      "source": [
        "<a href=\"https://colab.research.google.com/github/Theresasaji/python/blob/main/Untitled1.ipynb\" target=\"_parent\"><img src=\"https://colab.research.google.com/assets/colab-badge.svg\" alt=\"Open In Colab\"/></a>"
      ]
    },
    {
      "cell_type": "code",
      "metadata": {
        "colab": {
          "base_uri": "https://localhost:8080/"
        },
        "id": "qY3Yuro-NdzM",
        "outputId": "0b60f857-7bc2-447a-a395-fe3f27372dbe"
      },
      "source": [
        "#2 Display future leap years from current year to a final year entered by user\r\n",
        "y = int(input(\"Enter the final year : \"))\r\n",
        "print(\"Future leap years from 2021 : \")\r\n",
        "for x in range (2021 , y+1):\r\n",
        " if((x%4==0) and (x%100!=0)) or (x%400==0):\r\n",
        "   print(x)"
      ],
      "execution_count": 1,
      "outputs": [
        {
          "output_type": "stream",
          "text": [
            "Enter the final year : 2040\n",
            "Future leap years from 2021 : \n",
            "2024\n",
            "2028\n",
            "2032\n",
            "2036\n",
            "2040\n"
          ],
          "name": "stdout"
        }
      ]
    },
    {
      "cell_type": "code",
      "metadata": {
        "colab": {
          "base_uri": "https://localhost:8080/"
        },
        "id": "vxCCysRRNn2m",
        "outputId": "b7c59bd1-4d0a-40dd-8309-4099dfb4ff5c"
      },
      "source": [
        "#3a Generate positive list of numbers from a given list of integers\r\n",
        "mylist=[23 , 58 , 34 , 70 , -56 , 45 , 65 , -12] \r\n",
        "print(\"First list : \", mylist)\r\n",
        "newlist=[x for x in mylist if x > 0]\r\n",
        "print(\"New list : \" ,newlist)"
      ],
      "execution_count": 2,
      "outputs": [
        {
          "output_type": "stream",
          "text": [
            "First list :  [23, 58, 34, 70, -56, 45, 65, -12]\n",
            "New list :  [23, 58, 34, 70, 45, 65]\n"
          ],
          "name": "stdout"
        }
      ]
    },
    {
      "cell_type": "code",
      "metadata": {
        "colab": {
          "base_uri": "https://localhost:8080/"
        },
        "id": "LFTVYUY4OQHe",
        "outputId": "3150ca4b-b261-4af9-ec52-656a3c45d94b"
      },
      "source": [
        "#3b Square of N numbers\r\n",
        "mylist=[1 ,2 , 3 , 4]\r\n",
        "print(\"First list : \" ,mylist)\r\n",
        "newlist=[number ** 2 for number in mylist]\r\n",
        "print(\"New list : \" ,newlist)"
      ],
      "execution_count": 3,
      "outputs": [
        {
          "output_type": "stream",
          "text": [
            "First list :  [1, 2, 3, 4]\n",
            "New list :  [1, 4, 9, 16]\n"
          ],
          "name": "stdout"
        }
      ]
    },
    {
      "cell_type": "code",
      "metadata": {
        "colab": {
          "base_uri": "https://localhost:8080/"
        },
        "id": "RdGUCxDkOuRf",
        "outputId": "f9bd5c60-51c7-4a31-cd37-036dfad7afbc"
      },
      "source": [
        "#9 Create a string from given string where first and last characters exchanged\r\n",
        "a=input(\"Enter a string : \")\r\n",
        "print(\"New string : \")\r\n",
        "print(a[-1:] + a[1:-1] + a[0])"
      ],
      "execution_count": 4,
      "outputs": [
        {
          "output_type": "stream",
          "text": [
            "Enter a string : PYTHON\n",
            "New string : \n",
            "NYTHOP\n"
          ],
          "name": "stdout"
        }
      ]
    },
    {
      "cell_type": "code",
      "metadata": {
        "colab": {
          "base_uri": "https://localhost:8080/"
        },
        "id": "YBeEYXNkPmaj",
        "outputId": "c8b21c0c-e738-423e-fa5d-3d2f62e08cb0"
      },
      "source": [
        "#10 Accept the radius from user and find area of circle\r\n",
        "r=float(input(\"Enter radius of circle : \"))\r\n",
        "pi=3.14\r\n",
        "area= pi * r * r\r\n",
        "print(\"Area = \" ,area)"
      ],
      "execution_count": 5,
      "outputs": [
        {
          "output_type": "stream",
          "text": [
            "Enter radius of circle : 6\n",
            "Area =  113.03999999999999\n"
          ],
          "name": "stdout"
        }
      ]
    },
    {
      "cell_type": "code",
      "metadata": {
        "colab": {
          "base_uri": "https://localhost:8080/"
        },
        "id": "Fg9SQPN5P1Wy",
        "outputId": "43327f4e-5391-42bf-934f-13f869c34572"
      },
      "source": [
        "#11 Find biggest of three numbers entered\r\n",
        "a = float(input(\"Enter first number : \"))\r\n",
        "b = float(input(\"Enter second number : \"))\r\n",
        "c = float(input(\"Enter third number : \"))\r\n",
        " \r\n",
        "if (a > b) and (a > c):\r\n",
        "   largest = a\r\n",
        "elif (b > a) and (b > c):\r\n",
        "   largest = b\r\n",
        "else:\r\n",
        "   largest = c\r\n",
        " \r\n",
        "print(\"The largest number is\",largest)"
      ],
      "execution_count": 7,
      "outputs": [
        {
          "output_type": "stream",
          "text": [
            "Enter first number : -78\n",
            "Enter second number : 45\n",
            "Enter third number : 14\n",
            "The largest number is 45.0\n"
          ],
          "name": "stdout"
        }
      ]
    },
    {
      "cell_type": "code",
      "metadata": {
        "colab": {
          "base_uri": "https://localhost:8080/"
        },
        "id": "tYL22Z_1QL8X",
        "outputId": "6ebae972-7c94-4724-8802-b603c29bc85c"
      },
      "source": [
        "#20 From a list of integers ,create a new list removing even numbers\r\n",
        "list = [12, 13, 14, 15, 16]\r\n",
        "print(\"Original list : \" , list)\r\n",
        "for i  in list:\r\n",
        "\tif(i%2 == 0):\r\n",
        "\t    list.remove(i)\r\n",
        "print(\"List after removing EVEN numbers : \" , list)"
      ],
      "execution_count": 9,
      "outputs": [
        {
          "output_type": "stream",
          "text": [
            "Original list :  [12, 13, 14, 15, 16]\n",
            "List after removing EVEN numbers :  [13, 15]\n"
          ],
          "name": "stdout"
        }
      ]
    },
    {
      "cell_type": "code",
      "metadata": {
        "colab": {
          "base_uri": "https://localhost:8080/"
        },
        "id": "13AFZ5UrQpH7",
        "outputId": "15693110-68dd-4d35-8f51-47d7f5853837"
      },
      "source": [
        "#19 Find gcd of two numbers\r\n",
        "a = int(input(\"Enter 1st number: \"))\r\n",
        "b = int(input(\"Enter 2nd number: \"))\r\n",
        "i = 1\r\n",
        "while(i <= a and i <= b):\r\n",
        "  if(a % i == 0 and b % i == 0):\r\n",
        "    gcd = i\r\n",
        "  i = i + 1\r\n",
        "print(\"GCD is\", gcd)"
      ],
      "execution_count": 10,
      "outputs": [
        {
          "output_type": "stream",
          "text": [
            "Enter 1st number: 60\n",
            "Enter 2nd number: 30\n",
            "GCD is 30\n"
          ],
          "name": "stdout"
        }
      ]
    },
    {
      "cell_type": "code",
      "metadata": {
        "colab": {
          "base_uri": "https://localhost:8080/"
        },
        "id": "YJjqJ1heQ_tn",
        "outputId": "2516c858-f3fe-47f9-8198-9a54d247f429"
      },
      "source": [
        "#18 Merge two dictionaries\r\n",
        "dict1 = {\"a\":100 ,\"b\":200}\r\n",
        "dict2 = {\"x\":300 ,\"y\":400}\r\n",
        "newdict = dict1.copy()\r\n",
        "newdict.update(dict2)\r\n",
        "print(\"Merged dictionary : \" , newdict)"
      ],
      "execution_count": 11,
      "outputs": [
        {
          "output_type": "stream",
          "text": [
            "Merged dictionary :  {'a': 100, 'b': 200, 'x': 300, 'y': 400}\n"
          ],
          "name": "stdout"
        }
      ]
    },
    {
      "cell_type": "code",
      "metadata": {
        "colab": {
          "base_uri": "https://localhost:8080/"
        },
        "id": "-Bp4p7P0RJ5y",
        "outputId": "3b01963f-ac8f-4664-a531-f7554cc287af"
      },
      "source": [
        "#12 Accept a file name from user and print extension of that\r\n",
        "filename = input(\"Enter the Filename : \")\r\n",
        "f_extns = filename.split(\".\")\r\n",
        "print (\"The extension of the file is : \" + repr(f_extns[-1]))"
      ],
      "execution_count": 13,
      "outputs": [
        {
          "output_type": "stream",
          "text": [
            "Enter the Filename : print.html\n",
            "The extension of the file is : 'html'\n"
          ],
          "name": "stdout"
        }
      ]
    },
    {
      "cell_type": "code",
      "metadata": {
        "id": "Y2l_Y6djRpD7"
      },
      "source": [
        ""
      ],
      "execution_count": null,
      "outputs": []
    }
  ]
}