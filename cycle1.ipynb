{
  "nbformat": 4,
  "nbformat_minor": 0,
  "metadata": {
    "colab": {
      "name": "cycle1.ipynb",
      "provenance": [],
      "collapsed_sections": [],
      "authorship_tag": "ABX9TyOGbaVwbw0N6zQcoK/1WP++",
      "include_colab_link": true
    },
    "kernelspec": {
      "name": "python3",
      "display_name": "Python 3"
    }
  },
  "cells": [
    {
      "cell_type": "markdown",
      "metadata": {
        "id": "view-in-github",
        "colab_type": "text"
      },
      "source": [
        "<a href=\"https://colab.research.google.com/github/Theresasaji/python/blob/main/cycle1.ipynb\" target=\"_parent\"><img src=\"https://colab.research.google.com/assets/colab-badge.svg\" alt=\"Open In Colab\"/></a>"
      ]
    },
    {
      "cell_type": "code",
      "metadata": {
        "colab": {
          "base_uri": "https://localhost:8080/"
        },
        "id": "tq14b6n6Yaj8",
        "outputId": "716800cb-a833-490f-cfb7-34bd49021ce9"
      },
      "source": [
        "#datatypes\r\n",
        "a=1\r\n",
        "print(\"the value of\",a,\"is of the type\",type(a))\r\n",
        "b=\"hello\"\r\n",
        "print(\"the value of\",b,\"is of the type\",type(b))\r\n",
        "c=3.14\r\n",
        "print(\"the value of\",c,\"is of the type\",type(c))\r\n",
        "d=2j\r\n",
        "print(\"the value of\",d,\"is of the type\",type(d))\r\n",
        "e={\"ads\",\"web\",\"python\"}\r\n",
        "print(\"the value of\",e,\"is of the type\",type(e))\r\n",
        "f=(\"ads\",\"web\",\"python\")\r\n",
        "print(\"the value of\",f,\"is of the type\",type(f))\r\n",
        "g=[\"ads\",\"web\",\"python\"]\r\n",
        "print(\"the value of\",g,\"is of the type\",type(g))\r\n",
        "h=range(5)\r\n",
        "print(\"the value of\",h,\"is of the type\",type(h))\r\n",
        "i=True\r\n",
        "print(\"the value of\",i,\"is of the type\",type(i))\r\n",
        "\r\n"
      ],
      "execution_count": 1,
      "outputs": [
        {
          "output_type": "stream",
          "text": [
            "the value of 1 is of the type <class 'int'>\n",
            "the value of hello is of the type <class 'str'>\n",
            "the value of 3.14 is of the type <class 'float'>\n",
            "the value of 2j is of the type <class 'complex'>\n",
            "the value of {'python', 'web', 'ads'} is of the type <class 'set'>\n",
            "the value of ('ads', 'web', 'python') is of the type <class 'tuple'>\n",
            "the value of ['ads', 'web', 'python'] is of the type <class 'list'>\n",
            "the value of range(0, 5) is of the type <class 'range'>\n",
            "the value of True is of the type <class 'bool'>\n"
          ],
          "name": "stdout"
        }
      ]
    },
    {
      "cell_type": "code",
      "metadata": {
        "colab": {
          "base_uri": "https://localhost:8080/"
        },
        "id": "m_ay3xqG-MB4",
        "outputId": "3ff25967-8b83-473f-a42d-55426e99c3e7"
      },
      "source": [
        "#hello world program\r\n",
        "print (\"hello world!\")"
      ],
      "execution_count": null,
      "outputs": [
        {
          "output_type": "stream",
          "text": [
            "hello world!\n"
          ],
          "name": "stdout"
        }
      ]
    },
    {
      "cell_type": "code",
      "metadata": {
        "colab": {
          "base_uri": "https://localhost:8080/"
        },
        "id": "2EGwqbam_3DE",
        "outputId": "36a97561-a6cb-4c15-d91b-cf47c4bccd88"
      },
      "source": [
        "#print an integer\r\n",
        "a=int(input(\"enter the number\"))\r\n",
        "print(a)"
      ],
      "execution_count": null,
      "outputs": [
        {
          "output_type": "stream",
          "text": [
            "enter the number5\n",
            "5\n"
          ],
          "name": "stdout"
        }
      ]
    },
    {
      "cell_type": "code",
      "metadata": {
        "colab": {
          "base_uri": "https://localhost:8080/"
        },
        "id": "ERde-s48AQi_",
        "outputId": "7a47e444-5193-4ca0-d3af-19c7909cd5ea"
      },
      "source": [
        "#add 2 intergers\r\n",
        "a=int(input(\"enter first number\"))\r\n",
        "b=int(input(\"enter second number\"))\r\n",
        "print (\"sum=\" ,a+b)\r\n"
      ],
      "execution_count": null,
      "outputs": [
        {
          "output_type": "stream",
          "text": [
            "enter first number6\n",
            "enter second number7\n",
            "sum= 13\n"
          ],
          "name": "stdout"
        }
      ]
    },
    {
      "cell_type": "code",
      "metadata": {
        "colab": {
          "base_uri": "https://localhost:8080/"
        },
        "id": "fC7hDUGfBett",
        "outputId": "8e0d626d-09ea-4a2f-dc11-d561fb4141d9"
      },
      "source": [
        "#multiply 2 floating point number\r\n",
        "a=float(input(\"enter first number\"))\r\n",
        "b=float(input(\"enter second number\"))\r\n",
        "print (\"product=\" ,a*b)\r\n"
      ],
      "execution_count": null,
      "outputs": [
        {
          "output_type": "stream",
          "text": [
            "enter first number5\n",
            "enter second number4\n",
            "product= 20.0\n"
          ],
          "name": "stdout"
        }
      ]
    },
    {
      "cell_type": "code",
      "metadata": {
        "colab": {
          "base_uri": "https://localhost:8080/"
        },
        "id": "5a0FKaEPB_q6",
        "outputId": "4137143d-5863-47bd-dcd3-909f3c995fb3"
      },
      "source": [
        "# quotient and remainder\r\n",
        "a=float(input(\"enter first number\"))\r\n",
        "b=float(input(\"enter second number\"))\r\n",
        "print (\"quotient=\" ,a/b)\r\n",
        "print (\"remainder=\" ,a%b)\r\n"
      ],
      "execution_count": null,
      "outputs": [
        {
          "output_type": "stream",
          "text": [
            "enter first number10\n",
            "enter second number2\n",
            "quotient= 5.0\n",
            "remainder= 0.0\n"
          ],
          "name": "stdout"
        }
      ]
    },
    {
      "cell_type": "code",
      "metadata": {
        "colab": {
          "base_uri": "https://localhost:8080/"
        },
        "id": "_nr1JeyPC0wt",
        "outputId": "d8a1047b-64e3-404f-8fa3-6a2ae581cfd4"
      },
      "source": [
        "#swap 2 number\r\n",
        "a=int(input(\"enter value of a\"))\r\n",
        "b=int(input(\"enter value of b\"))\r\n",
        "temp = a\r\n",
        "a = b\r\n",
        "b = temp\r\n",
        "print(\"The value of a after swapping:\",a)\r\n",
        "print(\"The value of b after swapping:\",b)"
      ],
      "execution_count": null,
      "outputs": [
        {
          "output_type": "stream",
          "text": [
            "enter value of a6\n",
            "enter value of b8\n",
            "The value of a after swapping: 8\n",
            "The value of b after swapping: 6\n"
          ],
          "name": "stdout"
        }
      ]
    },
    {
      "cell_type": "code",
      "metadata": {
        "colab": {
          "base_uri": "https://localhost:8080/"
        },
        "id": "0kbhmp1WG1Aq",
        "outputId": "39c93617-4520-4d64-e08a-a2d6538b1d23"
      },
      "source": [
        "#even or odd\r\n",
        "n=int(input(\"enter the number\"))\r\n",
        "if(n%2==0):\r\n",
        " print(n,\"is even\")\r\n",
        "else:\r\n",
        " print(n,\"is odd\")\r\n",
        " "
      ],
      "execution_count": null,
      "outputs": [
        {
          "output_type": "stream",
          "text": [
            "enter the number7\n",
            "7 is odd\n"
          ],
          "name": "stdout"
        }
      ]
    },
    {
      "cell_type": "code",
      "metadata": {
        "colab": {
          "base_uri": "https://localhost:8080/"
        },
        "id": "SDY0FxHwEd6a",
        "outputId": "5f3fbe85-603c-4334-b45c-667d8bd38dd4"
      },
      "source": [
        "#vowel or consonant\r\n",
        "ch = input(\"Enter a character: \")\r\n",
        "if(ch=='A' or ch=='a' or ch=='E' or ch =='e' or ch=='I'\r\n",
        " or ch=='i' or ch=='O' or ch=='o' or ch=='U' or ch=='u'):\r\n",
        "    print(ch, \"is a Vowel\")\r\n",
        "else:\r\n",
        "    print(ch, \"is a Consonant\")"
      ],
      "execution_count": null,
      "outputs": [
        {
          "output_type": "stream",
          "text": [
            "Enter a character: r\n",
            "r is a Consonant\n"
          ],
          "name": "stdout"
        }
      ]
    },
    {
      "cell_type": "code",
      "metadata": {
        "colab": {
          "base_uri": "https://localhost:8080/"
        },
        "id": "QBWyNohpIpJE",
        "outputId": "018e7f5e-7f77-4f2b-efd4-d429803bd51d"
      },
      "source": [
        "#largest number\r\n",
        "a=int(input(\"enter first number\"))\r\n",
        "b=int(input(\"enter second number\"))\r\n",
        "c=int(input(\"enter third number\"))\r\n",
        "if(a>b and a>c):\r\n",
        " print(a,\"is largest\")\r\n",
        "elif(b>a and b>c):\r\n",
        " print(b,\"is largest\")\r\n",
        "else:\r\n",
        " print(c,\"is largest\")"
      ],
      "execution_count": null,
      "outputs": [
        {
          "output_type": "stream",
          "text": [
            "enter first number19\n",
            "enter second number45\n",
            "enter third number15\n",
            "45 is largest\n"
          ],
          "name": "stdout"
        }
      ]
    },
    {
      "cell_type": "code",
      "metadata": {
        "colab": {
          "base_uri": "https://localhost:8080/"
        },
        "id": "rv2irFl3KgAv",
        "outputId": "feaf77e1-283a-4469-8eb1-beecf7a7d970"
      },
      "source": [
        "#leap year\r\n",
        "a=int(input(\"enter the year:\"))\r\n",
        "if(a%4==0):\r\n",
        " print(a,\"is a leap year\")\r\n",
        "else:\r\n",
        "  print(a,\"not a leap year\")\r\n"
      ],
      "execution_count": null,
      "outputs": [
        {
          "output_type": "stream",
          "text": [
            "enter the year:2020\n",
            "2020 is a leap year\n"
          ],
          "name": "stdout"
        }
      ]
    },
    {
      "cell_type": "code",
      "metadata": {
        "colab": {
          "base_uri": "https://localhost:8080/"
        },
        "id": "K99iVXqKLeDT",
        "outputId": "e4472343-9a98-4f84-cd03-a134785dd1b5"
      },
      "source": [
        "#positive or negetive\r\n",
        "n=int(input(\"enter a number:\"))\r\n",
        "if(n>=0):\r\n",
        "  print(\"positive number\")\r\n",
        "else:\r\n",
        "  print(\"negative number\")"
      ],
      "execution_count": null,
      "outputs": [
        {
          "output_type": "stream",
          "text": [
            "enter a number:7\n",
            "positive number\n"
          ],
          "name": "stdout"
        }
      ]
    },
    {
      "cell_type": "code",
      "metadata": {
        "colab": {
          "base_uri": "https://localhost:8080/"
        },
        "id": "0OM_FjVGMxL6",
        "outputId": "cdaf261f-0393-4160-f625-233585aa3b63"
      },
      "source": [
        "#sum of natural numbers\r\n",
        "n=int(input(\"enter the limit:\"))\r\n",
        "i=1\r\n",
        "s=0\r\n",
        "while(i <= n):\r\n",
        "      s =s + i\r\n",
        "      i=i+1\r\n",
        "print(\"sum=\",s)"
      ],
      "execution_count": null,
      "outputs": [
        {
          "output_type": "stream",
          "text": [
            "enter the limit:10\n",
            "sum= 55\n"
          ],
          "name": "stdout"
        }
      ]
    },
    {
      "cell_type": "code",
      "metadata": {
        "colab": {
          "base_uri": "https://localhost:8080/"
        },
        "id": "jSCc1tHXPdmp",
        "outputId": "4680c366-a365-46df-e4b1-edbc19c2f9fd"
      },
      "source": [
        "#factorial\r\n",
        "n=int(input(\"enter the number:\"))\r\n",
        "f=1\r\n",
        "i=1\r\n",
        "while(i <= n):\r\n",
        "      f =f*i\r\n",
        "      i=i+1\r\n",
        "print(\"factorial=\",f)"
      ],
      "execution_count": null,
      "outputs": [
        {
          "output_type": "stream",
          "text": [
            "enter the number:5\n",
            "factorial= 120\n"
          ],
          "name": "stdout"
        }
      ]
    },
    {
      "cell_type": "code",
      "metadata": {
        "colab": {
          "base_uri": "https://localhost:8080/"
        },
        "id": "QGjQMgViQLHj",
        "outputId": "abde3cc8-fad1-40e4-db12-9bed242ee604"
      },
      "source": [
        "#multiplication table\r\n",
        "n=int(input(\"enter the number:\"))\r\n",
        "for i in range(1,11):\r\n",
        " print(i,'x',n,'=',n*i)\r\n"
      ],
      "execution_count": null,
      "outputs": [
        {
          "output_type": "stream",
          "text": [
            "enter the number:9\n",
            "1 x 9 = 9\n",
            "2 x 9 = 18\n",
            "3 x 9 = 27\n",
            "4 x 9 = 36\n",
            "5 x 9 = 45\n",
            "6 x 9 = 54\n",
            "7 x 9 = 63\n",
            "8 x 9 = 72\n",
            "9 x 9 = 81\n",
            "10 x 9 = 90\n"
          ],
          "name": "stdout"
        }
      ]
    },
    {
      "cell_type": "code",
      "metadata": {
        "colab": {
          "base_uri": "https://localhost:8080/"
        },
        "id": "kSizWbY1ZEBH",
        "outputId": "4be229be-83b2-444b-9ca6-adfe323cad0e"
      },
      "source": [
        "#fibonacci series\r\n",
        "n=int(input(\"enter any number :\"))\r\n",
        "x,y =0,1\r\n",
        "count=0\r\n",
        "if n<=0:\r\n",
        "  print(\"enter a positive number.\")\r\n",
        "elif n==1:\r\n",
        "  print(\"fibonacci sequence upto\",n,\":\")\r\n",
        "  print(x)\r\n",
        "else:\r\n",
        "  print(\"fibonacci sequence :\")\r\n",
        "  while count<n:\r\n",
        "    print(x)\r\n",
        "    z=x+y\r\n",
        "    x=y\r\n",
        "    y=z\r\n",
        "    count+=1\r\n",
        "\r\n"
      ],
      "execution_count": 3,
      "outputs": [
        {
          "output_type": "stream",
          "text": [
            "enter any number :6\n",
            "fibonacci sequence :\n",
            "0\n",
            "1\n",
            "1\n",
            "2\n",
            "3\n",
            "5\n"
          ],
          "name": "stdout"
        }
      ]
    },
    {
      "cell_type": "code",
      "metadata": {
        "colab": {
          "base_uri": "https://localhost:8080/"
        },
        "id": "hjeom791ZrnC",
        "outputId": "b9271873-ae10-4992-b897-6d649cc5f6ca"
      },
      "source": [
        "#lcm\r\n",
        "def find_lcm(x, y):\r\n",
        "   if x > y:\r\n",
        "       greater = x\r\n",
        "   else:\r\n",
        "       greater = y\r\n",
        "   while(True):\r\n",
        "       if((greater % x == 0) and (greater % y == 0)):\r\n",
        "           lcm = greater\r\n",
        "           break\r\n",
        "       greater += 1\r\n",
        "   return lcm\r\n",
        "a=int(input(\"enter the value of first number :\"))\r\n",
        "b=int(input(\"enter the value of second number :\"))\r\n",
        "print(\"the L.C.M. is\", find_lcm(a,b))\r\n"
      ],
      "execution_count": 4,
      "outputs": [
        {
          "output_type": "stream",
          "text": [
            "enter the value of first number :54\n",
            "enter the value of second number :24\n",
            "the L.C.M. is 216\n"
          ],
          "name": "stdout"
        }
      ]
    },
    {
      "cell_type": "code",
      "metadata": {
        "colab": {
          "base_uri": "https://localhost:8080/"
        },
        "id": "Xj25OTS4aVEk",
        "outputId": "3d5409ae-251a-4f09-ed55-e36684aac777"
      },
      "source": [
        "#count numbers\r\n",
        "n=int(input(\"enter any number :\"))\r\n",
        "count=0\r\n",
        "while (n>0):\r\n",
        "    count=count+1\r\n",
        "    n=n//10\r\n",
        "print(\"the number of digits in the given number is/are :\",count)\r\n",
        "\r\n"
      ],
      "execution_count": 5,
      "outputs": [
        {
          "output_type": "stream",
          "text": [
            "enter any number :400\n",
            "the number of digits in the given number is/are : 3\n"
          ],
          "name": "stdout"
        }
      ]
    },
    {
      "cell_type": "code",
      "metadata": {
        "colab": {
          "base_uri": "https://localhost:8080/"
        },
        "id": "elS86Qyuag3x",
        "outputId": "47dac2a5-1964-4b34-d40d-6ec4d0760856"
      },
      "source": [
        "#reverse\r\n",
        "x=int(input(\"enter any number to be reversed :\"))\r\n",
        "rev=0\r\n",
        "while x>0:\r\n",
        "  rev=(rev*10)+(x%10)\r\n",
        "  x=x//10\r\n",
        "print(\"reverse is\",rev)\r\n"
      ],
      "execution_count": 6,
      "outputs": [
        {
          "output_type": "stream",
          "text": [
            "enter any number to be reversed :678\n",
            "reverse is 876\n"
          ],
          "name": "stdout"
        }
      ]
    },
    {
      "cell_type": "code",
      "metadata": {
        "colab": {
          "base_uri": "https://localhost:8080/"
        },
        "id": "T9BisFFwaq62",
        "outputId": "75337782-902c-4462-dcfa-78a379b0b46e"
      },
      "source": [
        "#power \r\n",
        "n=int(input(\"enter any positive number :\"))\r\n",
        "e=int(input(\"enter the value of exponent :\"))\r\n",
        "p=1\r\n",
        "for i in range(1,e+1):\r\n",
        "  p=p*n\r\n",
        "print(\"the power of\",n,\"^\",e,\"is\",p)\r\n"
      ],
      "execution_count": 7,
      "outputs": [
        {
          "output_type": "stream",
          "text": [
            "enter any positive number :2\n",
            "enter the value of exponent :3\n",
            "the power of 2 ^ 3 is 8\n"
          ],
          "name": "stdout"
        }
      ]
    },
    {
      "cell_type": "code",
      "metadata": {
        "colab": {
          "base_uri": "https://localhost:8080/"
        },
        "id": "65x-ESKfa820",
        "outputId": "9d31f5e5-8edc-46f2-edd7-1700b0d2bc1f"
      },
      "source": [
        "#palindrome\r\n",
        "n=int(input(\"enter any number :\"))\r\n",
        "rev=0\r\n",
        "temp=n\r\n",
        "while (temp > 0):\r\n",
        "    r=temp%10\r\n",
        "    rev=(rev*10)+r\r\n",
        "    temp=temp//10\r\n",
        "print(\"reverse of this given number is\",rev)\r\n",
        "if (n==rev):\r\n",
        "    print(n,\"is a palindrome number\")\r\n",
        "else:\r\n",
        "    print(n,\"is not a palindrome number\")\r\n"
      ],
      "execution_count": 8,
      "outputs": [
        {
          "output_type": "stream",
          "text": [
            "enter any number :6116\n",
            "reverse of this given number is 6116\n",
            "6116 is a palindrome number\n"
          ],
          "name": "stdout"
        }
      ]
    }
  ]
}