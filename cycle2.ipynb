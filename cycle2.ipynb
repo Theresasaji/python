{
  "nbformat": 4,
  "nbformat_minor": 0,
  "metadata": {
    "colab": {
      "name": "cycle2.ipynb",
      "provenance": [],
      "collapsed_sections": [],
      "authorship_tag": "ABX9TyO9EbMHBqOENjexSk3UAZPm",
      "include_colab_link": true
    },
    "kernelspec": {
      "name": "python3",
      "display_name": "Python 3"
    }
  },
  "cells": [
    {
      "cell_type": "markdown",
      "metadata": {
        "id": "view-in-github",
        "colab_type": "text"
      },
      "source": [
        "<a href=\"https://colab.research.google.com/github/Theresasaji/python/blob/main/cycle2.ipynb\" target=\"_parent\"><img src=\"https://colab.research.google.com/assets/colab-badge.svg\" alt=\"Open In Colab\"/></a>"
      ]
    },
    {
      "cell_type": "code",
      "metadata": {
        "colab": {
          "base_uri": "https://localhost:8080/"
        },
        "id": "qY3Yuro-NdzM",
        "outputId": "0b60f857-7bc2-447a-a395-fe3f27372dbe"
      },
      "source": [
        "#2 Display future leap years from current year to a final year entered by user\r\n",
        "y = int(input(\"Enter the final year : \"))\r\n",
        "print(\"Future leap years from 2021 : \")\r\n",
        "for x in range (2021 , y+1):\r\n",
        " if((x%4==0) and (x%100!=0)) or (x%400==0):\r\n",
        "   print(x)"
      ],
      "execution_count": null,
      "outputs": [
        {
          "output_type": "stream",
          "text": [
            "Enter the final year : 2040\n",
            "Future leap years from 2021 : \n",
            "2024\n",
            "2028\n",
            "2032\n",
            "2036\n",
            "2040\n"
          ],
          "name": "stdout"
        }
      ]
    },
    {
      "cell_type": "code",
      "metadata": {
        "colab": {
          "base_uri": "https://localhost:8080/"
        },
        "id": "vxCCysRRNn2m",
        "outputId": "b7c59bd1-4d0a-40dd-8309-4099dfb4ff5c"
      },
      "source": [
        "#3a Generate positive list of numbers from a given list of integers\r\n",
        "mylist=[23 , 58 , 34 , 70 , -56 , 45 , 65 , -12] \r\n",
        "print(\"First list : \", mylist)\r\n",
        "newlist=[x for x in mylist if x > 0]\r\n",
        "print(\"New list : \" ,newlist)"
      ],
      "execution_count": null,
      "outputs": [
        {
          "output_type": "stream",
          "text": [
            "First list :  [23, 58, 34, 70, -56, 45, 65, -12]\n",
            "New list :  [23, 58, 34, 70, 45, 65]\n"
          ],
          "name": "stdout"
        }
      ]
    },
    {
      "cell_type": "code",
      "metadata": {
        "colab": {
          "base_uri": "https://localhost:8080/"
        },
        "id": "LFTVYUY4OQHe",
        "outputId": "3150ca4b-b261-4af9-ec52-656a3c45d94b"
      },
      "source": [
        "#3b Square of N numbers\r\n",
        "mylist=[1 ,2 , 3 , 4]\r\n",
        "print(\"First list : \" ,mylist)\r\n",
        "newlist=[number ** 2 for number in mylist]\r\n",
        "print(\"New list : \" ,newlist)"
      ],
      "execution_count": null,
      "outputs": [
        {
          "output_type": "stream",
          "text": [
            "First list :  [1, 2, 3, 4]\n",
            "New list :  [1, 4, 9, 16]\n"
          ],
          "name": "stdout"
        }
      ]
    },
    {
      "cell_type": "code",
      "metadata": {
        "colab": {
          "base_uri": "https://localhost:8080/"
        },
        "id": "RdGUCxDkOuRf",
        "outputId": "f9bd5c60-51c7-4a31-cd37-036dfad7afbc"
      },
      "source": [
        "#9 Create a string from given string where first and last characters exchanged\r\n",
        "a=input(\"Enter a string : \")\r\n",
        "print(\"New string : \")\r\n",
        "print(a[-1:] + a[1:-1] + a[0])"
      ],
      "execution_count": null,
      "outputs": [
        {
          "output_type": "stream",
          "text": [
            "Enter a string : PYTHON\n",
            "New string : \n",
            "NYTHOP\n"
          ],
          "name": "stdout"
        }
      ]
    },
    {
      "cell_type": "code",
      "metadata": {
        "colab": {
          "base_uri": "https://localhost:8080/"
        },
        "id": "YBeEYXNkPmaj",
        "outputId": "c8b21c0c-e738-423e-fa5d-3d2f62e08cb0"
      },
      "source": [
        "#10 Accept the radius from user and find area of circle\r\n",
        "r=float(input(\"Enter radius of circle : \"))\r\n",
        "pi=3.14\r\n",
        "area= pi * r * r\r\n",
        "print(\"Area = \" ,area)"
      ],
      "execution_count": null,
      "outputs": [
        {
          "output_type": "stream",
          "text": [
            "Enter radius of circle : 6\n",
            "Area =  113.03999999999999\n"
          ],
          "name": "stdout"
        }
      ]
    },
    {
      "cell_type": "code",
      "metadata": {
        "colab": {
          "base_uri": "https://localhost:8080/"
        },
        "id": "Fg9SQPN5P1Wy",
        "outputId": "43327f4e-5391-42bf-934f-13f869c34572"
      },
      "source": [
        "#11 Find biggest of three numbers entered\r\n",
        "a = float(input(\"Enter first number : \"))\r\n",
        "b = float(input(\"Enter second number : \"))\r\n",
        "c = float(input(\"Enter third number : \"))\r\n",
        " \r\n",
        "if (a > b) and (a > c):\r\n",
        "   largest = a\r\n",
        "elif (b > a) and (b > c):\r\n",
        "   largest = b\r\n",
        "else:\r\n",
        "   largest = c\r\n",
        " \r\n",
        "print(\"The largest number is\",largest)"
      ],
      "execution_count": null,
      "outputs": [
        {
          "output_type": "stream",
          "text": [
            "Enter first number : -78\n",
            "Enter second number : 45\n",
            "Enter third number : 14\n",
            "The largest number is 45.0\n"
          ],
          "name": "stdout"
        }
      ]
    },
    {
      "cell_type": "code",
      "metadata": {
        "colab": {
          "base_uri": "https://localhost:8080/"
        },
        "id": "tYL22Z_1QL8X",
        "outputId": "6ebae972-7c94-4724-8802-b603c29bc85c"
      },
      "source": [
        "#20 From a list of integers ,create a new list removing even numbers\r\n",
        "list = [12, 13, 14, 15, 16]\r\n",
        "print(\"Original list : \" , list)\r\n",
        "for i  in list:\r\n",
        "\tif(i%2 == 0):\r\n",
        "\t    list.remove(i)\r\n",
        "print(\"List after removing EVEN numbers : \" , list)"
      ],
      "execution_count": null,
      "outputs": [
        {
          "output_type": "stream",
          "text": [
            "Original list :  [12, 13, 14, 15, 16]\n",
            "List after removing EVEN numbers :  [13, 15]\n"
          ],
          "name": "stdout"
        }
      ]
    },
    {
      "cell_type": "code",
      "metadata": {
        "colab": {
          "base_uri": "https://localhost:8080/"
        },
        "id": "13AFZ5UrQpH7",
        "outputId": "15693110-68dd-4d35-8f51-47d7f5853837"
      },
      "source": [
        "#19 Find gcd of two numbers\r\n",
        "a = int(input(\"Enter 1st number: \"))\r\n",
        "b = int(input(\"Enter 2nd number: \"))\r\n",
        "i = 1\r\n",
        "while(i <= a and i <= b):\r\n",
        "  if(a % i == 0 and b % i == 0):\r\n",
        "    gcd = i\r\n",
        "  i = i + 1\r\n",
        "print(\"GCD is\", gcd)"
      ],
      "execution_count": null,
      "outputs": [
        {
          "output_type": "stream",
          "text": [
            "Enter 1st number: 60\n",
            "Enter 2nd number: 30\n",
            "GCD is 30\n"
          ],
          "name": "stdout"
        }
      ]
    },
    {
      "cell_type": "code",
      "metadata": {
        "colab": {
          "base_uri": "https://localhost:8080/"
        },
        "id": "YJjqJ1heQ_tn",
        "outputId": "2516c858-f3fe-47f9-8198-9a54d247f429"
      },
      "source": [
        "#18 Merge two dictionaries\r\n",
        "dict1 = {\"a\":100 ,\"b\":200}\r\n",
        "dict2 = {\"x\":300 ,\"y\":400}\r\n",
        "newdict = dict1.copy()\r\n",
        "newdict.update(dict2)\r\n",
        "print(\"Merged dictionary : \" , newdict)"
      ],
      "execution_count": null,
      "outputs": [
        {
          "output_type": "stream",
          "text": [
            "Merged dictionary :  {'a': 100, 'b': 200, 'x': 300, 'y': 400}\n"
          ],
          "name": "stdout"
        }
      ]
    },
    {
      "cell_type": "code",
      "metadata": {
        "colab": {
          "base_uri": "https://localhost:8080/"
        },
        "id": "-Bp4p7P0RJ5y",
        "outputId": "3b01963f-ac8f-4664-a531-f7554cc287af"
      },
      "source": [
        "#12 Accept a file name from user and print extension of that\r\n",
        "filename = input(\"Enter the Filename : \")\r\n",
        "f_extns = filename.split(\".\")\r\n",
        "print (\"The extension of the file is : \" + repr(f_extns[-1]))"
      ],
      "execution_count": null,
      "outputs": [
        {
          "output_type": "stream",
          "text": [
            "Enter the Filename : print.html\n",
            "The extension of the file is : 'html'\n"
          ],
          "name": "stdout"
        }
      ]
    },
    {
      "cell_type": "code",
      "metadata": {
        "id": "Y2l_Y6djRpD7",
        "colab": {
          "base_uri": "https://localhost:8080/"
        },
        "outputId": "fcb157f9-b900-495d-8872-11cfa81f1563"
      },
      "source": [
        "#17\r\n",
        "k1=input(\"enter first key : \")\r\n",
        "k2=input(\"enter second key : \")\r\n",
        "k3=input(\"enter third key : \")\r\n",
        "k4=input(\"enter fourth key : \")\r\n",
        "k5=input(\"enter fifth key : \")\r\n",
        "v1=input(\"enter first value : \")\r\n",
        "v2=input(\"enter second value : \")\r\n",
        "v3=input(\"enter third value : \")\r\n",
        "v4=input(\"enter fourth value : \")\r\n",
        "v5=input(\"enter fifth value : \")\r\n",
        "d={}\r\n",
        "d[k1]=v1\r\n",
        "d[k2]=v2\r\n",
        "d[k3]=v3\r\n",
        "d[k4]=v4\r\n",
        "d[k5]=v5\r\n",
        "l=list(d.items())   \r\n",
        "l.sort() \r\n",
        "print(\"ascending order is : \",l)\r\n",
        "l=list(d.items())\r\n",
        "l.sort(reverse = True)\r\n",
        "print(\"descending order is : \",l)"
      ],
      "execution_count": 3,
      "outputs": [
        {
          "output_type": "stream",
          "text": [
            "enter first key : 1\n",
            "enter second key : 5\n",
            "enter third key : 2\n",
            "enter fourth key : 3\n",
            "enter fifth key : 4\n",
            "enter first value : a\n",
            "enter second value : b\n",
            "enter third value : c\n",
            "enter fourth value : d\n",
            "enter fifth value : e\n",
            "ascending order is :  [('1', 'a'), ('2', 'c'), ('3', 'd'), ('4', 'e'), ('5', 'b')]\n",
            "descending order is :  [('5', 'b'), ('4', 'e'), ('3', 'd'), ('2', 'c'), ('1', 'a')]\n"
          ],
          "name": "stdout"
        }
      ]
    },
    {
      "cell_type": "code",
      "metadata": {
        "colab": {
          "base_uri": "https://localhost:8080/"
        },
        "id": "TDSMqtnNNLsg",
        "outputId": "94584340-13d0-4b11-e48d-055886341b1e"
      },
      "source": [
        "#16\r\n",
        "x=input(\"enter the first string : \")\r\n",
        "y=input(\"enter the second string : \")\r\n",
        "def swapch(x,y): \r\n",
        "  a = y[:1] + x[1:]\r\n",
        "  b = x[:1] + y[1:]\r\n",
        "  return a + ' ' + b\r\n",
        "print(swapch(x,y)) \r\n"
      ],
      "execution_count": 5,
      "outputs": [
        {
          "output_type": "stream",
          "text": [
            "enter the first string : there\n",
            "enter the second string : here\n",
            "hhere tere\n"
          ],
          "name": "stdout"
        }
      ]
    },
    {
      "cell_type": "code",
      "metadata": {
        "colab": {
          "base_uri": "https://localhost:8080/"
        },
        "id": "qlv-lXX4N60C",
        "outputId": "27ef4b48-55b7-4eea-9ab3-59e6383c54d2"
      },
      "source": [
        "#13\r\n",
        "c1=[]\r\n",
        "x=int(input(\"enter limit for list1 :\"))\r\n",
        "for i in range(1,x+1):\r\n",
        "  a=input()\r\n",
        "  c1.append(a)\r\n",
        "  p=set(c1)\r\n",
        "print(p)\r\n",
        "c2=[]\r\n",
        "y=int(input(\"enter limit for list2 : \"))\r\n",
        "for i in range(1,y+1):\r\n",
        "  b=input()\r\n",
        "  c2.append(b)\r\n",
        "  q=set(c2)\r\n",
        "print(q)\r\n",
        "print(p.difference(q))"
      ],
      "execution_count": 10,
      "outputs": [
        {
          "output_type": "stream",
          "text": [
            "enter limit for list1 :2\n",
            "green\n",
            "red\n",
            "{'green', 'red'}\n",
            "enter limit for list2 : 3\n",
            "blue\n",
            "rose\n",
            "black\n",
            "{'black', 'blue', 'rose'}\n",
            "{'green', 'red'}\n"
          ],
          "name": "stdout"
        }
      ]
    },
    {
      "cell_type": "code",
      "metadata": {
        "colab": {
          "base_uri": "https://localhost:8080/"
        },
        "id": "YGTE7GzWPIAG",
        "outputId": "5b1f1625-24f8-447b-92ee-7676ca5c190f"
      },
      "source": [
        "#14\r\n",
        "a=int(input(\"enter any integer : \"))\r\n",
        "n1=int(\"%s\" %a)\r\n",
        "n2=int(\"%s%s\" %(a,a))\r\n",
        "n3=int(\"%s%s%s\" %(a,a,a))\r\n",
        "print(\"value of n+nn+nnn is : \",n1+n2+n3)"
      ],
      "execution_count": 11,
      "outputs": [
        {
          "output_type": "stream",
          "text": [
            "enter any integer : 1\n",
            "value of n+nn+nnn is :  123\n"
          ],
          "name": "stdout"
        }
      ]
    },
    {
      "cell_type": "code",
      "metadata": {
        "colab": {
          "base_uri": "https://localhost:8080/"
        },
        "id": "HRb7BpJZPdwH",
        "outputId": "4af3b022-4332-486d-84ce-b24efc890a14"
      },
      "source": [
        "\r\n",
        "c=[]\r\n",
        "x=int(input(\"enter limit for list : \"))\r\n",
        "for i in range(1,x+1):\r\n",
        "  a=input()\r\n",
        "  c.append(a)\r\n",
        "print(c)\r\n",
        "print(c[0],c[-1])"
      ],
      "execution_count": 13,
      "outputs": [
        {
          "output_type": "stream",
          "text": [
            "enter limit for list : 4\n",
            "green\n",
            "rose\n",
            "red\n",
            "blue\n",
            "['green', 'rose', 'red', 'blue']\n",
            "green blue\n"
          ],
          "name": "stdout"
        }
      ]
    },
    {
      "cell_type": "code",
      "metadata": {
        "colab": {
          "base_uri": "https://localhost:8080/"
        },
        "id": "8C3UZGGQQDEY",
        "outputId": "d209d65f-761c-4f18-8a8c-ca1d06f7c234"
      },
      "source": [
        "str=input(\"enter any string : \")\r\n",
        "def rep_ch(str1):\r\n",
        "  char=str1[0]\r\n",
        "  str1=str1.replace(char, '$')\r\n",
        "  str1=char+str1[1:]\r\n",
        "  return str1\r\n",
        "print(rep_ch(str))"
      ],
      "execution_count": 14,
      "outputs": [
        {
          "output_type": "stream",
          "text": [
            "enter any string : theresa\n",
            "theresa\n"
          ],
          "name": "stdout"
        }
      ]
    },
    {
      "cell_type": "code",
      "metadata": {
        "colab": {
          "base_uri": "https://localhost:8080/"
        },
        "id": "wpg_nc5MQaR9",
        "outputId": "6b442e9a-b948-42d0-afe3-609d31237375"
      },
      "source": [
        "x=[]\r\n",
        "a=int(input(\"enter limit for list1 : \"))\r\n",
        "for i in range(1,a+1):\r\n",
        "  a=int(input())\r\n",
        "  x.append(a)\r\n",
        " \r\n",
        "print(x)\r\n",
        "y=[]\r\n",
        "b=int(input(\"enter limit for list2 : \"))\r\n",
        "for i in range(1,b+1):\r\n",
        "  b=int(input())\r\n",
        "  y.append(b)\r\n",
        "print(y)\r\n",
        "if (len(x)==len(y)):\r\n",
        "  print(\"list1 and list2 are of same length i.e.\",len(x))\r\n",
        "else:\r\n",
        "  print(\"list1 and list2 are of different length.\")\r\n",
        "if (sum(x)==sum(y)):\r\n",
        "  print(\"list1 and list2 sums to the same value i.e.\",sum(x))\r\n",
        "else:\r\n",
        "  print(\"list1 and list2 sums up to different values.\")\r\n",
        "def common(x, y): \r\n",
        "    p=set(x) \r\n",
        "    q=set(y) \r\n",
        "    if len(p.intersection(q)) > 0: \r\n",
        "        return(p.intersection(q))   \r\n",
        "    else: \r\n",
        "        return(\"no common elements\")  \r\n",
        "print(\"value that occur in both lists is/are :\",common(x,y))\r\n"
      ],
      "execution_count": 17,
      "outputs": [
        {
          "output_type": "stream",
          "text": [
            "enter limit for list1 : 3\n",
            "5\n",
            "6\n",
            "7\n",
            "[5, 6, 7]\n",
            "enter limit for list2 : 3\n",
            "7\n",
            "8\n",
            "9\n",
            "[7, 8, 9]\n",
            "list1 and list2 are of same length i.e. 3\n",
            "list1 and list2 sums up to different values.\n",
            "value that occur in both lists is/are : {7}\n"
          ],
          "name": "stdout"
        }
      ]
    },
    {
      "cell_type": "code",
      "metadata": {
        "colab": {
          "base_uri": "https://localhost:8080/"
        },
        "id": "Kw7VK0a-Q4Aw",
        "outputId": "09d9ffe3-7b5a-4468-e7a4-d5a9827fb3f9"
      },
      "source": [
        "n=input(\"enter your house number : \")\r\n",
        "hname=input(\"enter your house name : \")\r\n",
        "s=input(\"enter your street name : \")\r\n",
        "t=input(\"enter your town/city : \")\r\n",
        "d=input(\"enter your district : \")\r\n",
        "state=input(\"enter your state : \")\r\n",
        "country=input(\"enter your country : \")\r\n",
        "pin=int(input(\"enter your postcode: \"))\r\n",
        "print(\"\\nAddress Details :\\n\" + \"\\nHousenumber :\",n,\"\\nHouse :\",hname,\"\\nStreet : \",s,\"\\nTown/City : \",t,\"District : \",d,\"\\nState : \",state,\"\\nCountry : \",country,\"\\nPostcode : \",pin)"
      ],
      "execution_count": 21,
      "outputs": [
        {
          "output_type": "stream",
          "text": [
            "enter your house number : 123\n",
            "enter your house name : mhome\n",
            "enter your street name : mstreet\n",
            "enter your town/city : mycity\n",
            "enter your district : mydist\n",
            "enter your state : mystate\n",
            "enter your country : mycountry\n",
            "enter your postcode: 544556\n",
            "\n",
            "Address Details :\n",
            "\n",
            "Housenumber : 123 \n",
            "House : mhome \n",
            "Street :  mstreet \n",
            "Town/City :  mycity District :  mydist \n",
            "State :  mystate \n",
            "Country :  mycountry \n",
            "Postcode :  544556\n"
          ],
          "name": "stdout"
        }
      ]
    }
  ]
}